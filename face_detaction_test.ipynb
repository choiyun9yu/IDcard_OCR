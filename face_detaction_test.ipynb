{
 "cells": [
  {
   "attachments": {},
   "cell_type": "markdown",
   "metadata": {},
   "source": [
    "## 얼굴 검출"
   ]
  },
  {
   "attachments": {},
   "cell_type": "markdown",
   "metadata": {},
   "source": [
    "- 참고\n",
    "  - https://learnopencv.com/face-recognition-an-introduction-for-beginners/\n",
    "  - https://learnopencv.com/what-is-face-detection-the-ultimate-guide/?ck_subscriber_id=1842458982      \n",
    "  - https://learnopencv.com/face-recognition-with-arcface/"
   ]
  },
  {
   "attachments": {},
   "cell_type": "markdown",
   "metadata": {},
   "source": [
    "### 얼굴 검출이 어려운 경우\n",
    "- 일부분만 보이는 경우\n",
    "- 조명 : 조명이 얼굴 부위마다 다른경우 -> 신분증의 경우 조명 반사 때문에 더 취약할 것으로 사료됨\n",
    "- 피부색이 다른 경우\n",
    "- 얼굴의 방향이 다른 경우\n",
    "- 얼굴의 표정이 다른 경우\n",
    "- 악세사리, 화장, 문신, 수염, 마스크 등이 있는 경우\n",
    "- 얼굴의 크기가 다른 경우\n",
    "\n",
    "### 얼굴 검출을 위한 벤치마킹 데이터세트\n",
    "- FDDB (얼굴 감지 데이터 세트 및 벤치 마크) (2010년) \n",
    "    - 5,171개의 얼굴이 있는 2,845개의 이미지로 구성\n",
    "    - http://vis-www.cs.umass.edu/fddb/\n",
    "- AFW (Annotated Faces in the Wild) Dataset (2012년) \n",
    "    - 468개의 얼굴이 있는 205개의 이미지로 구성\n",
    "    - http://vis-www.cs.umass.edu/fddb/\n",
    "- Pascal Face (2013년)\n",
    "    - http://host.robots.ox.ac.uk/pascal/VOC/databases.html\n",
    "    - 1,341개의 얼굴이 있는 851개의 이미지로 구성\n",
    "- MALF (Multi-Attribute Labelled Faces) (2015년)\n",
    "    - 12,000개의 얼굴이 있는 5,250개의 이미지로 구성\n",
    "    - http://www.cbsr.ia.ac.cn/faceevaluation/\n",
    "- WiderFace (2015년)\n",
    "    - 393,703개의 얼굴이 있는 32,203개의 이미지로 구성\n",
    "    - http://shuoyang1213.me/WIDERFACE/ \n",
    "- UFDD (Unconstrained Face Detection Dataset) (2018년)\n",
    "    - 10,895개의 얼굴이 있는 6,424개의 이미지로 구성\n",
    "    - https://ufdd.info/\n",
    "\n",
    "### 얼굴 감지 성능 평가 도구 \n",
    "  - IoU, Precision, Recall, PR 곡선, ROC 곡선, AP, MAP 등\n",
    "\n",
    "### 얼굴 감지 알고리즘\n",
    "- Haar \n",
    "- Cvlib\n",
    "- Dlib\n",
    "- YOLO?"
   ]
  },
  {
   "cell_type": "code",
   "execution_count": null,
   "metadata": {},
   "outputs": [],
   "source": []
  },
  {
   "cell_type": "code",
   "execution_count": null,
   "metadata": {},
   "outputs": [],
   "source": []
  },
  {
   "cell_type": "code",
   "execution_count": null,
   "metadata": {},
   "outputs": [],
   "source": []
  },
  {
   "cell_type": "code",
   "execution_count": null,
   "metadata": {},
   "outputs": [],
   "source": []
  },
  {
   "cell_type": "code",
   "execution_count": null,
   "metadata": {},
   "outputs": [],
   "source": []
  },
  {
   "cell_type": "code",
   "execution_count": null,
   "metadata": {},
   "outputs": [],
   "source": []
  },
  {
   "cell_type": "code",
   "execution_count": null,
   "metadata": {},
   "outputs": [],
   "source": []
  },
  {
   "cell_type": "code",
   "execution_count": null,
   "metadata": {},
   "outputs": [],
   "source": []
  },
  {
   "cell_type": "code",
   "execution_count": null,
   "metadata": {},
   "outputs": [],
   "source": []
  },
  {
   "cell_type": "code",
   "execution_count": null,
   "metadata": {},
   "outputs": [],
   "source": []
  },
  {
   "attachments": {},
   "cell_type": "markdown",
   "metadata": {},
   "source": [
    "# YOLO\n",
    "- YOLO는 범용 객체 검출 알고리즘 이기 때문에 얼굴 검출 전용 알고리즘과 비교 시 실행속도는 상대적으로 느릴 수 있다. \n",
    "- 하지만 다양한 관심 객체들을 얼굴과 함께 동시에 검출해야하는 상황에서는 객체검출 알고리즘을 사용하는 것이 유리하다.\n"
   ]
  }
 ],
 "metadata": {
  "kernelspec": {
   "display_name": "Python 3",
   "language": "python",
   "name": "python3"
  },
  "language_info": {
   "codemirror_mode": {
    "name": "ipython",
    "version": 3
   },
   "file_extension": ".py",
   "mimetype": "text/x-python",
   "name": "python",
   "nbconvert_exporter": "python",
   "pygments_lexer": "ipython3",
   "version": "3.9.7"
  },
  "orig_nbformat": 4,
  "vscode": {
   "interpreter": {
    "hash": "a5c02c4437e1fd0816cd41622db1aa3963e0c190bc0f80f76519310004a5d7fc"
   }
  }
 },
 "nbformat": 4,
 "nbformat_minor": 2
}
