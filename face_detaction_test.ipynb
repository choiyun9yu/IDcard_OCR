{
 "cells": [
  {
   "attachments": {},
   "cell_type": "markdown",
   "metadata": {},
   "source": [
    "# Face Detaction"
   ]
  },
  {
   "attachments": {},
   "cell_type": "markdown",
   "metadata": {},
   "source": [
    "#### 얼굴 검출 개요\n",
    "- 이미지나 영상에서 인간의 얼굴의 존재를 감지하고 위치를 찾는 작업\n",
    "- 얼굴검출은 얼굴의 랜드마크 감지, 성별 분류, 얼굴 추적, 얼굴 인식 등의 작업의 시작점이라 할 수 있음\n",
    "- 얼굴검출의 응용 분야 : 보안, 마케팅, 의료, 엔터테인먼트, 법 집행, 감시, 사진, 게임, 화상회의 등\n",
    "\n",
    "#### 얼굴검출의 어려운 경우\n",
    "- 일부분만 보이는 경우\n",
    "- 조명 : 조명이 얼굴의 부위마다 다른 경우\n",
    "- 피부색이 다른 경우\n",
    "- 얼굴의 방향이 다른 경우\n",
    "- 얼굴의 표정이 다른 경우 \n",
    "- Accessories, 화장, 문신, 수염, 마스크 등이 있는 경우\n",
    "- 얼굴의 크기가 다른 경우  \n",
    "\n",
    "#### 얼굴 검출을 위한 벤치마킹 데이터세트\n",
    "- FDDB (얼굴 감지 데이터 세트 및 벤치 마크) (2010년) \n",
    "    - 5,171개의 얼굴이 있는 2,845개의 이미지로 구성\n",
    "    - http://vis-www.cs.umass.edu/fddb/\n",
    "- AFW (Annotated Faces in the Wild) Dataset (2012년) \n",
    "    - 468개의 얼굴이 있는 205개의 이미지로 구성\n",
    "    - http://vis-www.cs.umass.edu/fddb/\n",
    "- Pascal Face (2013년)\n",
    "    - http://host.robots.ox.ac.uk/pascal/VOC/databases.html\n",
    "    - 1,341개의 얼굴이 있는 851개의 이미지로 구성\n",
    "- MALF (Multi-Attribute Labelled Faces) (2015년)\n",
    "    - 12,000개의 얼굴이 있는 5,250개의 이미지로 구성\n",
    "    - http://www.cbsr.ia.ac.cn/faceevaluation/\n",
    "- WiderFace (2015년)\n",
    "    - 393,703개의 얼굴이 있는 32,203개의 이미지로 구성\n",
    "    - http://shuoyang1213.me/WIDERFACE/ \n",
    "- UFDD (Unconstrained Face Detection Dataset) (2018년)\n",
    "    - 10,895개의 얼굴이 있는 6,424개의 이미지로 구성\n",
    "    - https://ufdd.info/\n",
    "\n",
    "#### 얼굴 감지 성능 평가 도구 \n",
    "  - IoU, Precision, Recall, PR 곡선, ROC 곡선, AP, MAP 등"
   ]
  },
  {
   "attachments": {},
   "cell_type": "markdown",
   "metadata": {},
   "source": [
    "## 1. Harr\n",
    "Harrcascade 알고리즘 개요\n",
    "- 물체 특징 기반 검출 알고리즘인 Harr cascade를 이용한 얼굴 검출\n",
    "- 알고리즘 동작 순서\n",
    "    - Harr "
   ]
  },
  {
   "cell_type": "code",
   "execution_count": null,
   "metadata": {},
   "outputs": [],
   "source": []
  },
  {
   "attachments": {},
   "cell_type": "markdown",
   "metadata": {},
   "source": [
    "## 2. Cvlib"
   ]
  },
  {
   "cell_type": "code",
   "execution_count": null,
   "metadata": {},
   "outputs": [],
   "source": []
  },
  {
   "attachments": {},
   "cell_type": "markdown",
   "metadata": {},
   "source": [
    "## 3. Dlib\n",
    "dlib 개요\n",
    "- dlib는 얼굴영상에서 68개의 얼굴의 랜드마크 검출\n",
    "- dlib 파일 다운로드 : https://pypi.org/project/dlib/\n",
    "- 학습 데이터 모델 : http://dlib.net/files/shape_predictor_68_face_landmarks.dat.bz2  \n",
    "\n",
    "Visual Studio\n",
    "- Visual Studio 다운로드 : https://visualstudio.microsoft.com/ko/downloads/\n",
    "- 실행 후에 C++를 이용한 데스크톱 개발를 선택하고 오른쪽의 선택된 옵션 (옵션을 보면, Windows용 C++ CMake 도구 선택)을 install 버튼을 클릭하여 설치\n",
    "\n",
    "- cmake : https://cmake.org/download/"
   ]
  },
  {
   "cell_type": "code",
   "execution_count": null,
   "metadata": {},
   "outputs": [],
   "source": [
    "!pip install cmake"
   ]
  },
  {
   "cell_type": "code",
   "execution_count": null,
   "metadata": {},
   "outputs": [],
   "source": [
    "!pip install opencv-contrib-python dlib"
   ]
  },
  {
   "attachments": {},
   "cell_type": "markdown",
   "metadata": {},
   "source": [
    "#"
   ]
  },
  {
   "cell_type": "markdown",
   "metadata": {},
   "source": [
    "# Open Source 를 활용한 객체 검출"
   ]
  },
  {
   "attachments": {},
   "cell_type": "markdown",
   "metadata": {},
   "source": [
    "## 1. SSD (Single Shot Dectector)\n",
    "- 다른 모델은 객체 감지를 위해 이미지를 2번 이상 반복하는 것에 반해 1번만으로 객체 감지\n",
    "- 백본 모델(피쳐 맵 추출기로 작동하는 일반적인 사전 학습된 이미지 분류 네트워크)과   \n",
    "  SSD헤드(두 개의 컨볼루션 레이어로 구성, 바운딩 박스 출력)로 구성\n",
    "- 참고 : https://github.com/amdegroot/ssd.pytorch"
   ]
  },
  {
   "cell_type": "code",
   "execution_count": null,
   "metadata": {},
   "outputs": [],
   "source": []
  },
  {
   "cell_type": "code",
   "execution_count": null,
   "metadata": {},
   "outputs": [],
   "source": []
  },
  {
   "attachments": {},
   "cell_type": "markdown",
   "metadata": {},
   "source": [
    "## 2. MTCNN (Multi-Task Cascaded Convolutional Neural Network)\n",
    "\n",
    "- 3단계 CNN으로 구성\n",
    "    - P-Net(Proposed Net) : \n",
    "    - R-Net(Refine Net) : \n",
    "    - O-Net(Ouput Net) : \n",
    "- 논문 : https://kpzhang93.github.io/MTCNN_face_detection_alignment/paper/spl.pdf\n",
    "- 참고 : https://github.com/ipazc/mtcnn   "
   ]
  },
  {
   "cell_type": "code",
   "execution_count": null,
   "metadata": {},
   "outputs": [],
   "source": [
    "# !pip install mtcnn"
   ]
  },
  {
   "cell_type": "code",
   "execution_count": null,
   "metadata": {},
   "outputs": [],
   "source": []
  },
  {
   "cell_type": "code",
   "execution_count": null,
   "metadata": {},
   "outputs": [],
   "source": []
  },
  {
   "attachments": {},
   "cell_type": "markdown",
   "metadata": {},
   "source": [
    "## 3. DSFD (Dual Shot Face Dectector)\n",
    "\n",
    "- 2개의 스트림 형태로 구성 \n",
    "- 논문 : https://arxiv.org/abs/1810.10220\n",
    "- 참고 : https://github.com/yxlijun/DSFD.pytorch\n",
    "- face_detection 참고 : https://pypi.org/project/face-detection/  "
   ]
  },
  {
   "cell_type": "code",
   "execution_count": null,
   "metadata": {},
   "outputs": [],
   "source": [
    "# !pip install face_detection"
   ]
  },
  {
   "cell_type": "code",
   "execution_count": null,
   "metadata": {},
   "outputs": [],
   "source": []
  },
  {
   "cell_type": "code",
   "execution_count": null,
   "metadata": {},
   "outputs": [],
   "source": []
  },
  {
   "attachments": {},
   "cell_type": "markdown",
   "metadata": {},
   "source": [
    "## 4. RetianFace\n",
    "\n",
    "- 성능이 매우 우수한 얼굴인식기(mxnet 기반)\n",
    "- 참고 : https://github.com/serengil/retinaface"
   ]
  },
  {
   "cell_type": "code",
   "execution_count": null,
   "metadata": {},
   "outputs": [],
   "source": [
    "# !pip install retina-face"
   ]
  },
  {
   "cell_type": "code",
   "execution_count": null,
   "metadata": {},
   "outputs": [],
   "source": []
  },
  {
   "cell_type": "code",
   "execution_count": null,
   "metadata": {},
   "outputs": [],
   "source": []
  },
  {
   "attachments": {},
   "cell_type": "markdown",
   "metadata": {},
   "source": [
    "## 5. YuNet\n",
    "\n",
    "- CNN기반 얼굴 탐지기로 가볍고 빠름 (모델이 MB미만)\n",
    "- 백본으로 mobilenet을 채택하고 총 85,000개의 매개 변수를 포함\n",
    "- 정면얼굴이 아닌 경우에도 잘 동작\n",
    "- 참고 : https://github.com/opencv/opencv_zoo/tree/master/models/face_detection_yunet\n",
    "- 모델 훈련 : https://github.com/ShiqiYu/libfacedetection.train"
   ]
  },
  {
   "cell_type": "code",
   "execution_count": null,
   "metadata": {},
   "outputs": [],
   "source": []
  },
  {
   "cell_type": "code",
   "execution_count": null,
   "metadata": {},
   "outputs": [],
   "source": []
  },
  {
   "attachments": {},
   "cell_type": "markdown",
   "metadata": {},
   "source": [
    "## 6. YOLO\n",
    "\n",
    "- YOLO는 범용 객체검출 알고리즘이라 얼굴 검출 전용 알고리즘 대비 실행 속도는 상대적으로 느리다.\n",
    "- 하지만 다양한 관심 객체들을 어구과 함께 동시에 검출해야하는 상황에서는 보다 유리하다."
   ]
  },
  {
   "cell_type": "code",
   "execution_count": null,
   "metadata": {},
   "outputs": [],
   "source": []
  }
 ],
 "metadata": {
  "kernelspec": {
   "display_name": "dl",
   "language": "python",
   "name": "python3"
  },
  "language_info": {
   "codemirror_mode": {
    "name": "ipython",
    "version": 3
   },
   "file_extension": ".py",
   "mimetype": "text/x-python",
   "name": "python",
   "nbconvert_exporter": "python",
   "pygments_lexer": "ipython3",
   "version": "3.8.16"
  },
  "orig_nbformat": 4,
  "vscode": {
   "interpreter": {
    "hash": "1b39e3a4cb9cf065f66c73458e4d311e5dd562f2dbee143536875369dc87c30d"
   }
  }
 },
 "nbformat": 4,
 "nbformat_minor": 2
}
