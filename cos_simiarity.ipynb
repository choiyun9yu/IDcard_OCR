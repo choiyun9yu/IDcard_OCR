{
 "cells": [
  {
   "cell_type": "markdown",
   "metadata": {},
   "source": [
    "## Cosine Similarity"
   ]
  },
  {
   "attachments": {},
   "cell_type": "markdown",
   "metadata": {},
   "source": [
    "- 코사인 유사도는 벡터간의 코사인 각도를 이용하여 서로간에 얼마나 유사한지 산정\n",
    "- 각도를 유사도로 판별하기 때문에 거리가 중요하지 않을 경우에 사용되는 방식"
   ]
  },
  {
   "cell_type": "code",
   "execution_count": 1,
   "metadata": {},
   "outputs": [],
   "source": [
    "from numpy import dot\n",
    "from numpy.linalg import norm\n",
    "import numpy as np\n",
    "\n",
    "# 코사인 유사도를 구하는 함수\n",
    "def cos_sim(a, b):\n",
    "    return(dot(a, b) / (norm(a) * norm(b)))"
   ]
  }
 ],
 "metadata": {
  "kernelspec": {
   "display_name": "dl",
   "language": "python",
   "name": "python3"
  },
  "language_info": {
   "codemirror_mode": {
    "name": "ipython",
    "version": 3
   },
   "file_extension": ".py",
   "mimetype": "text/x-python",
   "name": "python",
   "nbconvert_exporter": "python",
   "pygments_lexer": "ipython3",
   "version": "3.8.16"
  },
  "orig_nbformat": 4,
  "vscode": {
   "interpreter": {
    "hash": "1b39e3a4cb9cf065f66c73458e4d311e5dd562f2dbee143536875369dc87c30d"
   }
  }
 },
 "nbformat": 4,
 "nbformat_minor": 2
}
