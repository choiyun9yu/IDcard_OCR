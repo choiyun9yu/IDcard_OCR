{
 "cells": [
  {
   "cell_type": "code",
   "execution_count": null,
   "metadata": {},
   "outputs": [],
   "source": []
  }
 ],
 "metadata": {
  "kernelspec": {
   "display_name": "dl",
   "language": "python",
   "name": "python3"
  },
  "language_info": {
   "name": "python",
   "version": "3.8.16"
  },
  "orig_nbformat": 4,
  "vscode": {
   "interpreter": {
    "hash": "1b39e3a4cb9cf065f66c73458e4d311e5dd562f2dbee143536875369dc87c30d"
   }
  }
 },
 "nbformat": 4,
 "nbformat_minor": 2
}
